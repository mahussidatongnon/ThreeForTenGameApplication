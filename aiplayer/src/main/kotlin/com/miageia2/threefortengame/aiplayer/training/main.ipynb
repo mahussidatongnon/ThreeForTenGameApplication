{
 "cells": [
  {
   "cell_type": "code",
   "metadata": {
    "collapsed": true,
    "ExecuteTime": {
     "end_time": "2025-04-23T21:31:42.365980Z",
     "start_time": "2025-04-23T21:31:05.124154Z"
    }
   },
   "source": [
    "%use dataframe\n",
    "%useLatestDescriptors\n",
    "%use kandy"
   ],
   "outputs": [],
   "execution_count": 1
  },
  {
   "metadata": {
    "ExecuteTime": {
     "end_time": "2025-04-23T21:31:54.588197Z",
     "start_time": "2025-04-23T21:31:54.151972Z"
    }
   },
   "cell_type": "code",
   "source": "println(\"cc\")",
   "outputs": [
    {
     "name": "stdout",
     "output_type": "stream",
     "text": [
      "cc\n"
     ]
    }
   ],
   "execution_count": 2
  },
  {
   "metadata": {},
   "cell_type": "code",
   "outputs": [],
   "execution_count": null,
   "source": ""
  }
 ],
 "metadata": {
  "kernelspec": {
   "display_name": "Kotlin",
   "language": "kotlin",
   "name": "kotlin"
  },
  "language_info": {
   "name": "kotlin",
   "version": "1.9.23",
   "mimetype": "text/x-kotlin",
   "file_extension": ".kt",
   "pygments_lexer": "kotlin",
   "codemirror_mode": "text/x-kotlin",
   "nbconvert_exporter": ""
  }
 },
 "nbformat": 4,
 "nbformat_minor": 0
}
